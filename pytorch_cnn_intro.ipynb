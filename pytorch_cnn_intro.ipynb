{
 "cells": [
  {
   "cell_type": "code",
   "execution_count": 1,
   "metadata": {},
   "outputs": [],
   "source": [
    "import torch\n",
    "import torch.nn as nn\n",
    "import torchvision.transforms as transforms\n",
    "from torch.utils.data import Dataset, DataLoader\n",
    "import numpy as np\n",
    "import h5py"
   ]
  },
  {
   "cell_type": "markdown",
   "metadata": {},
   "source": [
    "### Create a data class to load the data into pytorch"
   ]
  },
  {
   "cell_type": "code",
   "execution_count": 15,
   "metadata": {},
   "outputs": [],
   "source": [
    "class Data(Dataset):\n",
    "    \"\"\"\n",
    "    Args:\n",
    "        h5 file\n",
    "    \n",
    "    \"\"\"\n",
    "    def __init__(self,filename,transform=None):\n",
    "        self.data=h5py.File(filename,'r')\n",
    "        self.x= torch.from_numpy(self.data['train_set_x'][...]).permute(0,3,1,2)\n",
    "        self.y= torch.from_numpy(self.data['train_set_y'][...])\n",
    "        self.transform=transform\n",
    "        self.len=self.y.shape[0]        \n",
    "    def __getitem__(self,index):\n",
    "        sample={'image': self.x[index], 'label': self.y[index]}\n",
    "        \n",
    "        if self.transform:\n",
    "            sample['image']=self.transform(sample['image'])\n",
    "   \n",
    "        return sample['image'],sample['label']\n",
    "\n",
    "    def __len__(self):\n",
    "        return self.len\n",
    "        "
   ]
  },
  {
   "cell_type": "markdown",
   "metadata": {},
   "source": [
    "\n",
    "### Create a cnn model"
   ]
  },
  {
   "cell_type": "code",
   "execution_count": 30,
   "metadata": {},
   "outputs": [],
   "source": [
    "\n",
    "class ModelCNN(nn.Module):\n",
    "    \n",
    "    def __init__(self, in_features,out_features):\n",
    "        super(ModelCNN,self).__init__()\n",
    "        # first conv layer\n",
    "        self.conv1= nn.Conv2d(in_channels=1,out_channels=in_features,kernel_size=5,padding=2)\n",
    "        # relu1\n",
    "        self.relu1=nn.ReLU()\n",
    "        #maxpool1\n",
    "        self.maxpool1=nn.MaxPool2d(kernel_size=8,stride=8,padding=0)\n",
    "        # second conv layer\n",
    "        self.conv2=nn.Conv2d(stride=1, in_channels=in_features,out_channels=out_features,kernel_size=5,padding=2)\n",
    "        #relu2\n",
    "        self.relu2=nn.ReLU()\n",
    "        #maxpool 2\n",
    "        self.maxpool2=nn.MaxPool2d(kernel_size=4,stride=4,padding=0)\n",
    "        # fully connected layer\n",
    "        self.fc=nn.Linear(out_features*2*2,6)\n",
    "    \n",
    "    def forward(self,x):\n",
    "        # first conv layer\n",
    "        out=self.conv1(x)\n",
    "        # activation function\n",
    "        out=self.relu1(out)\n",
    "        # max pooling\n",
    "        out=self.maxpool1(out)\n",
    "        # first conv layer\n",
    "        out=self.conv2(out)\n",
    "        # activation function\n",
    "        out=self.relu2(out)\n",
    "        # max pooling\n",
    "        out=self.maxpool2(out)\n",
    "        # flatten the output\n",
    "        out=out.view(out.size(0),-1)\n",
    "         # fully connected layer\n",
    "        out=self.fc(out)\n",
    "        return out\n",
    "    \n",
    "    "
   ]
  },
  {
   "cell_type": "code",
   "execution_count": 31,
   "metadata": {},
   "outputs": [],
   "source": [
    "model_cnn=ModelCNN(10,20)\n",
    "criterion = nn.CrossEntropyLoss()\n",
    "optimizer=torch.optim.Adam(model_cnn.parameters(),lr=0.01)"
   ]
  },
  {
   "cell_type": "code",
   "execution_count": 32,
   "metadata": {},
   "outputs": [],
   "source": [
    "composed_transforms=transforms.Compose([transforms.ToPILImage(),transforms.Grayscale(),transforms.ToTensor()])\n",
    "train_data_loader=DataLoader(Data(\"../hand_gestures_data/train_signs.h5\",transform=composed_transforms),batch_size=100)"
   ]
  },
  {
   "cell_type": "code",
   "execution_count": 33,
   "metadata": {},
   "outputs": [],
   "source": [
    "LOSS=[]\n",
    "epochs=10\n",
    "for epoch in range(epochs):\n",
    "    for x,y in train_data_loader:\n",
    "        optimizer.zero_grad()\n",
    "        \n",
    "        yhat= model_cnn(x)\n",
    "        loss = criterion(yhat, y)\n",
    "        LOSS.append(loss)\n",
    "        loss.backward()\n",
    "        optimizer.step()\n",
    "       "
   ]
  },
  {
   "cell_type": "code",
   "execution_count": 20,
   "metadata": {},
   "outputs": [],
   "source": [
    "import matplotlib.pyplot as plt\n",
    "%matplotlib inline"
   ]
  },
  {
   "cell_type": "code",
   "execution_count": 34,
   "metadata": {},
   "outputs": [
    {
     "data": {
      "text/plain": [
       "[<matplotlib.lines.Line2D at 0x7f94a3b40860>]"
      ]
     },
     "execution_count": 34,
     "metadata": {},
     "output_type": "execute_result"
    },
    {
     "data": {
      "image/png": "[encoded data removed]",
      "text/plain": [
       "<matplotlib.figure.Figure at 0x7f94a3b9fc88>"
      ]
     },
     "metadata": {},
     "output_type": "display_data"
    }
   ],
   "source": [
    "plt.plot(LOSS)"
   ]
  },
  {
   "cell_type": "code",
   "execution_count": null,
   "metadata": {},
   "outputs": [],
   "source": []
  }
 ],
 "metadata": {
  "kernelspec": {
   "display_name": "Python 3",
   "language": "python",
   "name": "python3"
  },
  "language_info": {
   "codemirror_mode": {
    "name": "ipython",
    "version": 3
   },
   "file_extension": ".py",
   "mimetype": "text/x-python",
   "name": "python",
   "nbconvert_exporter": "python",
   "pygments_lexer": "ipython3",
   "version": "3.6.5"
  }
 },
 "nbformat": 4,
 "nbformat_minor": 2
}
