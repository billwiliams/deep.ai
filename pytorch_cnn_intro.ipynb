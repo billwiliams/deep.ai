{
 "cells": [
  {
   "cell_type": "code",
   "execution_count": 22,
   "metadata": {},
   "outputs": [],
   "source": [
    "import torch\n",
    "import torch.nn as nn\n",
    "import torchvision.transforms as transforms\n",
    "from torch.utils.data import Dataset, DataLoader\n",
    "import numpy as np\n",
    "import h5py\n",
    "import matplotlib.pyplot as plt\n",
    "%matplotlib inline"
   ]
  },
  {
   "cell_type": "markdown",
   "metadata": {},
   "source": [
    "### Create a data class to load the data into pytorch"
   ]
  },
  {
   "cell_type": "code",
   "execution_count": 8,
   "metadata": {},
   "outputs": [],
   "source": [
    "class Data(Dataset):\n",
    "    \"\"\"\n",
    "    Args:\n",
    "        h5 file\n",
    "    \n",
    "    \"\"\"\n",
    "    def __init__(self,filename,transform=None, train=True):\n",
    "        self.data=h5py.File(filename,'r')\n",
    "                \n",
    "        if train:\n",
    "            self.x= torch.from_numpy(self.data['train_set_x'][...]).permute(0,3,1,2)\n",
    "            self.y= torch.from_numpy(self.data['train_set_y'][...])\n",
    "        else:\n",
    "            self.x= torch.from_numpy(self.data['test_set_x'][...]).permute(0,3,1,2)\n",
    "            self.y= torch.from_numpy(self.data['test_set_y'][...])\n",
    "                \n",
    "        self.transform=transform\n",
    "        self.len=self.y.shape[0]        \n",
    "    def __getitem__(self,index):\n",
    "        sample={'image': self.x[index], 'label': self.y[index]}\n",
    "        \n",
    "        if self.transform:\n",
    "            sample['image']=self.transform(sample['image'])\n",
    "   \n",
    "        return sample['image'],sample['label']\n",
    "\n",
    "    def __len__(self):\n",
    "        return self.len\n",
    "        "
   ]
  },
  {
   "cell_type": "markdown",
   "metadata": {},
   "source": [
    "\n",
    "### Create a cnn model"
   ]
  },
  {
   "cell_type": "code",
   "execution_count": 3,
   "metadata": {},
   "outputs": [],
   "source": [
    "\n",
    "class ModelCNN(nn.Module):\n",
    "    \n",
    "    def __init__(self, in_features,out_features):\n",
    "        super(ModelCNN,self).__init__()\n",
    "        # first conv layer\n",
    "        self.conv1= nn.Conv2d(in_channels=1,out_channels=in_features,kernel_size=5,padding=2)\n",
    "        # relu1\n",
    "        self.relu1=nn.ReLU()\n",
    "        #maxpool1\n",
    "        self.maxpool1=nn.MaxPool2d(kernel_size=8,stride=8,padding=0)\n",
    "        # second conv layer\n",
    "        self.conv2=nn.Conv2d(stride=1, in_channels=in_features,out_channels=out_features,kernel_size=5,padding=2)\n",
    "        #relu2\n",
    "        self.relu2=nn.ReLU()\n",
    "        #maxpool 2\n",
    "        self.maxpool2=nn.MaxPool2d(kernel_size=4,stride=4,padding=0)\n",
    "        # fully connected layer\n",
    "        self.fc=nn.Linear(out_features*2*2,6)\n",
    "    \n",
    "    def forward(self,x):\n",
    "        # first conv layer\n",
    "        out=self.conv1(x)\n",
    "        # activation function\n",
    "        out=self.relu1(out)\n",
    "        # max pooling\n",
    "        out=self.maxpool1(out)\n",
    "        # first conv layer\n",
    "        out=self.conv2(out)\n",
    "        # activation function\n",
    "        out=self.relu2(out)\n",
    "        # max pooling\n",
    "        out=self.maxpool2(out)\n",
    "        # flatten the output\n",
    "        out=out.view(out.size(0),-1)\n",
    "         # fully connected layer\n",
    "        out=self.fc(out)\n",
    "        return out\n",
    "    \n",
    "    "
   ]
  },
  {
   "cell_type": "code",
   "execution_count": 25,
   "metadata": {},
   "outputs": [],
   "source": [
    "model_cnn=ModelCNN(10,20)\n",
    "criterion = nn.CrossEntropyLoss()\n",
    "optimizer=torch.optim.Adam(model_cnn.parameters(),lr=0.001)"
   ]
  },
  {
   "cell_type": "code",
   "execution_count": 26,
   "metadata": {},
   "outputs": [],
   "source": [
    "composed_transforms=transforms.Compose([transforms.ToPILImage(),transforms.Grayscale(),transforms.ToTensor()])\n",
    "train_data_loader=DataLoader(Data(\"../hand_gestures_data/train_signs.h5\",transform=composed_transforms),batch_size=100)\n",
    "test_data_loader=DataLoader(Data(\"../hand_gestures_data/test_signs.h5\",transform=composed_transforms, train=False),batch_size=100)"
   ]
  },
  {
   "cell_type": "code",
   "execution_count": null,
   "metadata": {},
   "outputs": [],
   "source": []
  },
  {
   "cell_type": "markdown",
   "metadata": {},
   "source": [
    "### Train the model and evaluate"
   ]
  },
  {
   "cell_type": "code",
   "execution_count": 1,
   "metadata": {},
   "outputs": [
    {
     "ename": "NameError",
     "evalue": "name 'test_data_loader' is not defined",
     "output_type": "error",
     "traceback": [
      "\u001b[0;31m---------------------------------------------------------------------------\u001b[0m",
      "\u001b[0;31mNameError\u001b[0m                                 Traceback (most recent call last)",
      "\u001b[0;32m<ipython-input-1-314f4e1403b8>\u001b[0m in \u001b[0;36m<module>\u001b[0;34m\u001b[0m\n\u001b[1;32m      1\u001b[0m \u001b[0mLOSS\u001b[0m\u001b[0;34m=\u001b[0m\u001b[0;34m[\u001b[0m\u001b[0;34m]\u001b[0m\u001b[0;34m\u001b[0m\u001b[0m\n\u001b[1;32m      2\u001b[0m \u001b[0maccuracy_list\u001b[0m\u001b[0;34m=\u001b[0m\u001b[0;34m[\u001b[0m\u001b[0;34m]\u001b[0m\u001b[0;34m\u001b[0m\u001b[0m\n\u001b[0;32m----> 3\u001b[0;31m \u001b[0mN_test\u001b[0m\u001b[0;34m=\u001b[0m\u001b[0mtest_data_loader\u001b[0m\u001b[0;34m.\u001b[0m\u001b[0mdataset\u001b[0m\u001b[0;34m.\u001b[0m\u001b[0mlen\u001b[0m\u001b[0;34m\u001b[0m\u001b[0m\n\u001b[0m\u001b[1;32m      4\u001b[0m \u001b[0mepochs\u001b[0m\u001b[0;34m=\u001b[0m\u001b[0;36m100\u001b[0m\u001b[0;34m\u001b[0m\u001b[0m\n\u001b[1;32m      5\u001b[0m \u001b[0;32mfor\u001b[0m \u001b[0mepoch\u001b[0m \u001b[0;32min\u001b[0m \u001b[0mrange\u001b[0m\u001b[0;34m(\u001b[0m\u001b[0mepochs\u001b[0m\u001b[0;34m)\u001b[0m\u001b[0;34m:\u001b[0m\u001b[0;34m\u001b[0m\u001b[0m\n",
      "\u001b[0;31mNameError\u001b[0m: name 'test_data_loader' is not defined"
     ]
    }
   ],
   "source": [
    "LOSS=[]\n",
    "accuracy_list=[]\n",
    "N_test=test_data_loader.dataset.len\n",
    "epochs=100\n",
    "for epoch in range(epochs):\n",
    "    for x,y in train_data_loader:\n",
    "        optimizer.zero_grad()\n",
    "        \n",
    "        yhat= model_cnn(x)\n",
    "        loss = criterion(yhat, y)\n",
    "        loss.backward()\n",
    "        optimizer.step()\n",
    "    correct=0\n",
    "    #perform a prediction on the validation  data  \n",
    "    for x_test, y_test in test_data_loader:\n",
    "\n",
    "        z=model_cnn(x_test)\n",
    "        _,yhat=torch.max(z.data,1)\n",
    "\n",
    "        correct+=(yhat==y_test).sum().item()\n",
    "        \n",
    "   \n",
    "    accuracy=correct/N_test\n",
    "\n",
    "    accuracy_list.append(accuracy)\n",
    "    LOSS.append(loss)\n",
    "       "
   ]
  },
  {
   "cell_type": "code",
   "execution_count": null,
   "metadata": {},
   "outputs": [],
   "source": []
  },
  {
   "cell_type": "code",
   "execution_count": 30,
   "metadata": {},
   "outputs": [
    {
     "data": {
      "image/png": "[encoded data removed]",
      "text/plain": [
       "<matplotlib.figure.Figure at 0x7f0a333e0b00>"
      ]
     },
     "metadata": {},
     "output_type": "display_data"
    }
   ],
   "source": [
    "fig, ax1 = plt.subplots()\n",
    "color = 'tab:red'\n",
    "ax1.plot(LOSS,color=color)\n",
    "ax1.set_xlabel('epoch',color=color)\n",
    "ax1.set_ylabel('total loss',color=color)\n",
    "ax1.tick_params(axis='y', color=color)\n",
    "    \n",
    "ax2 = ax1.twinx()  \n",
    "color = 'tab:blue'\n",
    "ax2.set_ylabel('accuracy', color=color)  \n",
    "ax2.plot( accuracy_list, color=color)\n",
    "ax2.tick_params(axis='y', labelcolor=color)\n",
    "fig.tight_layout()"
   ]
  },
  {
   "cell_type": "code",
   "execution_count": null,
   "metadata": {},
   "outputs": [],
   "source": []
  },
  {
   "cell_type": "code",
   "execution_count": null,
   "metadata": {},
   "outputs": [],
   "source": []
  }
 ],
 "metadata": {
  "kernelspec": {
   "display_name": "Python 3",
   "language": "python",
   "name": "python3"
  },
  "language_info": {
   "codemirror_mode": {
    "name": "ipython",
    "version": 3
   },
   "file_extension": ".py",
   "mimetype": "text/x-python",
   "name": "python",
   "nbconvert_exporter": "python",
   "pygments_lexer": "ipython3",
   "version": "3.6.5"
  }
 },
 "nbformat": 4,
 "nbformat_minor": 2
}
