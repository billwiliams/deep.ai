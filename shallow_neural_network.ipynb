{
 "cells": [
  {
   "cell_type": "markdown",
   "metadata": {},
   "source": [
    "### A shallow(2-Layer) Neural Network from scratch\n",
    "**We will :**\n",
    "- Build  the general architecture of a two layer Neural Network  learning algorithm, including:\n",
    "    - Initializing parameters\n",
    "    - Calculating the cost function and its gradient\n",
    "    - Using an optimization algorithm (gradient descent) \n",
    "- Gather all three functions above into a main model function, in the right order.\n",
    "<img src=./data/2-Layer_Neural_Network.png><img>"
   ]
  },
  {
   "cell_type": "markdown",
   "metadata": {},
   "source": [
    "## 1 - Packages ##\n",
    "\n",
    "import all the packages that you will need during this assignment. \n",
    "- [numpy](www.numpy.org) is the fundamental package for scientific computing with Python.\n",
    "- [matplotlib](http://matplotlib.org) is a famous library to plot graphs in Python.\n",
    "* [scikit-learn](http://scikit-learn.org/stable/) a library with Simple and efficient tools for data mining and data analysis"
   ]
  },
  {
   "cell_type": "code",
   "execution_count": 1,
   "metadata": {
    "collapsed": true
   },
   "outputs": [],
   "source": [
    "import numpy as np\n",
    "import matplotlib.pyplot as plt\n",
    "from sklearn import datasets\n",
    "from sklearn.model_selection import train_test_split\n",
    "from sklearn.metrics import accuracy_score\n",
    "\n",
    "%matplotlib inline\n",
    "np.random.seed(42)"
   ]
  },
  {
   "cell_type": "markdown",
   "metadata": {},
   "source": [
    "## 2 - Dataset ##\n",
    "\n",
    "we will use the make_classification data from sklearn\n",
    "\n",
    "Loading the data by with the  following code."
   ]
  },
  {
   "cell_type": "code",
   "execution_count": 2,
   "metadata": {
    "collapsed": true
   },
   "outputs": [],
   "source": [
    "X,Y=datasets.make_classification(n_samples=1000000, n_features=100,\n",
    "                                    n_informative=100,n_classes=2, n_redundant=0,\n",
    "                                    random_state=42)\n"
   ]
  },
  {
   "cell_type": "markdown",
   "metadata": {},
   "source": [
    "## - Data-split  ##\n",
    "\n",
    "we will split the data with the following distribution \n",
    "- 99% -training set\n",
    "- 1% -test set\n",
    "\n",
    "we will use the sklearn train_test_split"
   ]
  },
  {
   "cell_type": "code",
   "execution_count": 3,
   "metadata": {
    "collapsed": true
   },
   "outputs": [],
   "source": [
    "X_train, X_test, y_train, y_test = train_test_split(X, Y, test_size=0.01,\n",
    "                                                    random_state=42)"
   ]
  },
  {
   "cell_type": "markdown",
   "metadata": {},
   "source": [
    "For convenience, we reshape the data into  a numpy-array of shape (1, m). After this, our training (and test) dataset is a numpy-array where each column represents one training example. There should be m_train (respectively m_test) columns."
   ]
  },
  {
   "cell_type": "code",
   "execution_count": 4,
   "metadata": {
    "collapsed": true
   },
   "outputs": [],
   "source": [
    "# we need to reshape our data to column vectors \n",
    "X_train=X_train.reshape(X_train.shape[0],-1).T\n",
    "X_test=X_test.reshape(X_test.shape[0],-1).T\n",
    "y_train=y_train.reshape(y_train.shape[0],-1).T\n",
    "y_test=y_test.reshape(y_test.shape[0],-1).T\n"
   ]
  },
  {
   "cell_type": "markdown",
   "metadata": {},
   "source": [
    "## 3 - Building the parts of our algorithm ## \n",
    "\n",
    "The main steps for building a Neural Network are:\n",
    "1. Define the model structure (such as number of input features) \n",
    "2. Initialize the model's parameters\n",
    "3. Loop:\n",
    "    - Calculate current loss (forward propagation)\n",
    "    - Calculate current gradient (backward propagation)\n",
    "    - Update parameters (gradient descent)\n",
    "\n",
    "You often build 1-3 separately and integrate them into one function we call `model()`."
   ]
  },
  {
   "cell_type": "markdown",
   "metadata": {},
   "source": [
    "##### We will define the parameters of our Neural Network and initialize them "
   ]
  },
  {
   "cell_type": "code",
   "execution_count": 5,
   "metadata": {
    "collapsed": true
   },
   "outputs": [],
   "source": [
    "def initialize_parameters(n_x,n_h,n_y):\n",
    "    \"\"\"\n",
    "    This functions computes the initialization weights and bias for the hidden layer and output layer\n",
    "    \n",
    "    Arguments:\n",
    "        n_x->number of features in the input X\n",
    "        n_h-> number of units in the hidden layer\n",
    "        n_y-> number of units in the output layer\n",
    "    \n",
    "    Returns:\n",
    "        parameters->weights and biases for each layer\n",
    "    \"\"\"\n",
    "    W1=np.random.randn(n_h,n_x)*0.01\n",
    "    b1=np.zeros((n_h,1),dtype=float)\n",
    "    W2=np.random.randn(n_y,n_h)*0.01\n",
    "    b2=np.zeros((n_y,1),dtype=float)\n",
    "    \n",
    "    parameters={\"W1\": W1, \"b1\":b1,\"W2\":W2,\"b2\":b2}\n",
    "    #Lets check that parameters have correct shapes\n",
    "    assert parameters[\"W1\"].shape==(n_h,n_x),\"Error in parameters W1 shape\"\n",
    "    assert parameters[\"W2\"].shape==(n_y,n_h),\"Error in parameters W2 shape\"\n",
    "    assert parameters[\"b1\"].shape==(n_h,1),\"Error in parameters b1 shape\"\n",
    "    assert parameters[\"b2\"].shape==(n_y,1),\"Error in parameters b2 shape\"\n",
    "    \n",
    "    return parameters"
   ]
  },
  {
   "cell_type": "markdown",
   "metadata": {},
   "source": [
    "Lets do some checks to ensure we initiliazed the parameters correctly"
   ]
  },
  {
   "cell_type": "code",
   "execution_count": 6,
   "metadata": {
    "collapsed": false
   },
   "outputs": [
    {
     "name": "stdout",
     "output_type": "stream",
     "text": [
      "(5, 100) (1, 5) (5, 1) (1, 1)\n"
     ]
    }
   ],
   "source": [
    "parameters=initialize_parameters(X_train.shape[0],5,y_train.shape[0])\n",
    "print(parameters[\"W1\"].shape,parameters[\"W2\"].shape,parameters[\"b1\"].shape,parameters[\"b2\"].shape)\n",
    "    "
   ]
  },
  {
   "cell_type": "markdown",
   "metadata": {},
   "source": [
    "#### We define the activations functions mainly Relu and sigmoid and tanh"
   ]
  },
  {
   "cell_type": "markdown",
   "metadata": {},
   "source": [
    "####  <center>  Relu function </center> \n",
    "#    <center>               $\\max(0,Z)$</center> \n"
   ]
  },
  {
   "cell_type": "code",
   "execution_count": 7,
   "metadata": {
    "collapsed": false
   },
   "outputs": [],
   "source": [
    "def relu(Z):\n",
    "    \"\"\"\n",
    "    This function computes the relu activation \n",
    "    \n",
    "    Arguments:\n",
    "        Z-> Weighteds inputs (Z=W.TA+b)\n",
    "    Returns:\n",
    "        A->relu activations of Z\n",
    "    \"\"\"\n",
    "    A=np.maximum(0,Z)\n",
    "    \n",
    "    return A"
   ]
  },
  {
   "cell_type": "markdown",
   "metadata": {},
   "source": [
    "\n",
    "####  <center>  Tanh function </center> \n",
    "#    <center>               $\\frac{\\mathrm{e}^{z}-\\mathrm{e}^{-z}}{\\mathrm{e}^{z}+\\mathrm{e}^{-z}}$</center> "
   ]
  },
  {
   "cell_type": "code",
   "execution_count": 8,
   "metadata": {
    "collapsed": true
   },
   "outputs": [],
   "source": [
    "def tanh(Z):\n",
    "    \"\"\"\n",
    "    This function computes the tanh activation \n",
    "    \n",
    "    Arguments:\n",
    "        Z-> Weighted inputs (Z=W.TA+b)\n",
    "    Returns:\n",
    "        A->tanh activations of Z\n",
    "    \"\"\"\n",
    "    \n",
    "    A=(np.exp(Z)-np.exp(-Z))/(np.exp(Z)+np.exp(-Z))\n",
    "    \n",
    "    return A\n",
    "    "
   ]
  },
  {
   "cell_type": "markdown",
   "metadata": {},
   "source": [
    "####  <center>  Sigmoid function </center> \n",
    "#    <center>               $\\frac{1}{1-\\mathrm{e}^{-z}}$</center> "
   ]
  },
  {
   "cell_type": "code",
   "execution_count": 9,
   "metadata": {
    "collapsed": true
   },
   "outputs": [],
   "source": [
    "def sigmoid(Z):\n",
    "    \"\"\"\n",
    "    This function computes the sigmoid activation \n",
    "    \n",
    "    Arguments:\n",
    "        Z-> Weighted inputs (Z=W.TA+b)\n",
    "    Returns:\n",
    "        A->sigmoid activations of Z\n",
    "    \"\"\"\n",
    "    A= 1/(1+np.exp(-Z))\n",
    "    \n",
    "    return A\n",
    "    "
   ]
  },
  {
   "cell_type": "markdown",
   "metadata": {},
   "source": [
    "### forward propagation\n",
    "\n",
    "**forward propagation:** Implementing forward propagation \n",
    "\n",
    "** for layer hidden layer **\n",
    "- We get X\n",
    "- We compute $A1 = \\sigma(W1^T X + b1) = (a^{(0)}, a^{(1)}, ..., a^{(m-1)}, a^{(m)})$\n",
    "\n",
    "** for output layer **\n",
    "- We get layer 1 activations\n",
    "- we compute $A2=\\sigma(W2^T + b2)=(a^{(0)}, a^{(1)}, ..., a^{(n_h-1)}, a^{(n_h)})$\n"
   ]
  },
  {
   "cell_type": "code",
   "execution_count": 10,
   "metadata": {
    "collapsed": true
   },
   "outputs": [],
   "source": [
    "def forward_propagate(parameters,X,activation=\"relu\"):\n",
    "    \"\"\"\n",
    "    This function computes the forward propagation\n",
    "    \n",
    "    Arguments:\n",
    "        parameters-> weights and biases for hidden layer\n",
    "        activation-> the activation to use \n",
    "    \"\"\"\n",
    "    W1=parameters[\"W1\"]\n",
    "    b1=parameters[\"b1\"]\n",
    "    W2=parameters[\"W2\"]\n",
    "    b2=parameters[\"b2\"]\n",
    "    #compute Z1\n",
    "    Z1=np.dot(W1 ,X )+ b1\n",
    "        \n",
    "    if activation==\"relu\":\n",
    "        A1=relu(Z1)\n",
    "    elif activation==\"sigmoid\":\n",
    "        A1=sigmoid(Z1)\n",
    "    elif activation==\"tanh\":\n",
    "        A1=tanh(Z1)\n",
    "        \n",
    "    Z2=np.dot(W2,A1)+b2\n",
    "    #activation for the final layer is a sigmoid since we are trying to estimate the predictions where it's either 1 or 0\n",
    "    A2=sigmoid(Z2)\n",
    "    \n",
    "    #we need to keep A2 and A1 for backpropagation\n",
    "    cache={\"A2\":A2,\"A1\":A1,\"Z1\":Z1,\"Z2\":Z2 }\n",
    "    \n",
    "    return A2,cache\n",
    "        \n",
    "        \n",
    "    \n",
    "    \n",
    "    "
   ]
  },
  {
   "cell_type": "markdown",
   "metadata": {},
   "source": [
    "### Now we define the cost function "
   ]
  },
  {
   "cell_type": "code",
   "execution_count": 11,
   "metadata": {
    "collapsed": false
   },
   "outputs": [],
   "source": [
    "def compute_cost(A,Y):\n",
    "    \"\"\"\n",
    "    This function computes the cost of the Neural Network    \n",
    "    \n",
    "    Arguments:\n",
    "        A-> Activations from the forward propagation\n",
    "        Y-> The correct labels \n",
    "    Returns:\n",
    "        cost-> logistic regression cost\n",
    "    \"\"\"\n",
    "    m=Y.shape[1]\n",
    "    cost=-(1/m)*np.sum(Y*np.log(A)+((1-Y)*np.log(1-A)))\n",
    "    \n",
    "    return cost"
   ]
  },
  {
   "cell_type": "markdown",
   "metadata": {},
   "source": [
    "#### Derivatives of the activation functions"
   ]
  },
  {
   "cell_type": "code",
   "execution_count": 12,
   "metadata": {
    "collapsed": true
   },
   "outputs": [],
   "source": [
    "def relu_derivative(A):\n",
    "    \"\"\"\n",
    "    This function computes the derivative of the relu function Max(0,Z)->drelu=Max(0,1)\n",
    "    drelu->returns 0 for all values below and including o and 1 for all other values\n",
    "    Arguments:\n",
    "        A->Activations\n",
    "    Returns:\n",
    "        Ad->relu derivative of A\n",
    "    \"\"\"\n",
    "    \n",
    "    Ad=np.choose(A>0,[0,1])\n",
    "    return Ad"
   ]
  },
  {
   "cell_type": "code",
   "execution_count": 13,
   "metadata": {
    "collapsed": false
   },
   "outputs": [],
   "source": [
    "def sigmoid_derivative(A):\n",
    "    \"\"\"\n",
    "    This function computes the derivative of the sigmoid function\n",
    "    the derivate evaluates to a(1-a) where a is the sigmoid function\n",
    "    Arguments:\n",
    "        A->Activations\n",
    "    Returns:\n",
    "        Ad->relu derivative of A\n",
    "    \"\"\"\n",
    "    Ad=sigmoid(A)*(1-sigmoid(A))\n",
    "    return Ad\n",
    "    "
   ]
  },
  {
   "cell_type": "code",
   "execution_count": 14,
   "metadata": {
    "collapsed": true
   },
   "outputs": [],
   "source": [
    "def tanh_derivative(A):\n",
    "    \"\"\"\n",
    "    This function computes the derivative of the tanh function\n",
    "    the derivate evaluates to (1-a*a) where a is the tanh function\n",
    "    Arguments:\n",
    "        A->Activations\n",
    "    Returns:\n",
    "        Ad->tanh derivative of A\n",
    "    \"\"\"\n",
    "    Ad=(1-tanh(A)*tanh(A))\n",
    "    return Ad\n",
    "    \n",
    "    "
   ]
  },
  {
   "cell_type": "markdown",
   "metadata": {
    "collapsed": true
   },
   "source": [
    "#### Backpropagation for the 2-layer neural network. \n",
    "- We compute the derivatives dw1,dw2,db1 and db2\n",
    "- These derivatives will be used to update the parameters W1,W2,b1 and b2"
   ]
  },
  {
   "cell_type": "code",
   "execution_count": 15,
   "metadata": {
    "collapsed": true
   },
   "outputs": [],
   "source": [
    "def backpropagation(cache,Y,X,parameters):\n",
    "    \"\"\"\n",
    "    This function computes the gradients by backpropagation \n",
    "    Arguments:\n",
    "        cache-> stored values of activations\n",
    "        parameters->stored parameters\n",
    "        Y->true labels\n",
    "        X->inputs features\n",
    "    Returns:\n",
    "        grads-> a dictionary containing the gradients of the parameters W1,W2,b1,and b2\n",
    "    \n",
    "    \"\"\"\n",
    "    m=X.shape[1]\n",
    "    \n",
    "    A2=cache[\"A2\"]\n",
    "    A1=cache[\"A1\"]\n",
    "    Z1=cache[\"Z1\"]\n",
    "    Z2=cache[\"Z2\"]\n",
    "    \n",
    "    W1=parameters[\"W1\"]\n",
    "    W2=parameters[\"W2\"]\n",
    "    \n",
    "    dZ2=A2-Y\n",
    "    dW2=1/m* np.dot(dZ2,A1.T)\n",
    "    db2=1/m*np.sum(dZ2,axis=1,keepdims=True)\n",
    "    dZ1=np.dot(W2.T,dZ2)*relu_derivative(Z1)\n",
    "    dW1=1/m*np.dot(dZ1,X.T)\n",
    "    db1=1/m*np.sum(dZ1,axis=1,keepdims=True)\n",
    "    \n",
    "    grads={\"dW1\":dW1,\"dW2\":dW2,\"db1\":db1,\"db2\":db2}\n",
    "    \n",
    "    return grads\n",
    "    \n",
    "    "
   ]
  },
  {
   "cell_type": "markdown",
   "metadata": {},
   "source": [
    "#### predictions for the network\n",
    "- We compute the predictions by using the updated parameters and running a forward propation step \n",
    "- We then convert all values below 0.5 to 0 and all above 0.5 to 1"
   ]
  },
  {
   "cell_type": "code",
   "execution_count": 16,
   "metadata": {
    "collapsed": true
   },
   "outputs": [],
   "source": [
    "def predict(parameters, X):\n",
    "    \"\"\"\n",
    "    Using the learned parameters, predicts a class for each example in X\n",
    "    \n",
    "    Arguments:\n",
    "    parameters -- python dictionary containing your parameters \n",
    "    X -- input data of size (n_x, m)\n",
    "    \n",
    "    Returns\n",
    "    predictions -- vector of predictions of our model (red: 0 / blue: 1)\n",
    "    \"\"\"\n",
    "    \n",
    "    # Computes probabilities using forward propagation, and classifies to 0/1 using 0.5 as the threshold.\n",
    "    A2, cache = forward_propagate(parameters,X,activation=\"relu\")\n",
    "    predictions = np.choose(A2<0.5,[1,0])\n",
    "   \n",
    "    \n",
    "    return predictions"
   ]
  },
  {
   "cell_type": "markdown",
   "metadata": {},
   "source": [
    "### The 2 layer Neural Network model \n",
    "- We combine all the functions above into a neural network model"
   ]
  },
  {
   "cell_type": "code",
   "execution_count": 17,
   "metadata": {
    "collapsed": false
   },
   "outputs": [],
   "source": [
    "def model(X,Y,n_h,num_iterations,learning_rate):\n",
    "    \"\"\"\n",
    "    This function combines all the above functions to create the 2 layer Neural Network\n",
    "    \n",
    "    Arguments:\n",
    "        X-> inputs X\n",
    "        Y->true labels\n",
    "        num_iterations-> number of iterations\n",
    "        learning_rate-> the model's learning rate\n",
    "        n_h-> number of hidden units in the hidden layer\n",
    "    Returns:\n",
    "        parameters-> a dictionary with the updated parameters\n",
    "    \n",
    "    \"\"\"\n",
    "    np.seterr(all='raise') # raise any numpy errors\n",
    "    costs=[]# a list of the costs over iterations\n",
    "    parameters=initialize_parameters(X.shape[0],n_h,Y.shape[0])\n",
    "    W1=parameters[\"W1\"]\n",
    "    W2=parameters[\"W2\"]\n",
    "    b1=parameters[\"b1\"]\n",
    "    b2=parameters[\"b2\"]\n",
    "    for i in range(num_iterations):\n",
    "        A2,cache=forward_propagate(parameters,X,activation=\"relu\")\n",
    "        cost=compute_cost(A2,Y)\n",
    "        costs.append(cost)\n",
    "        grads=backpropagation(parameters=parameters,cache=cache,X=X,Y=Y)\n",
    "        parameters[\"W1\"]=parameters[\"W1\"]-learning_rate*grads[\"dW1\"]\n",
    "        parameters[\"W2\"]=parameters[\"W2\"]-learning_rate*grads[\"dW2\"]\n",
    "        parameters[\"b1\"]=parameters[\"b1\"]-learning_rate*grads[\"db1\"]\n",
    "        parameters[\"b2\"]=parameters[\"b2\"]-learning_rate*grads[\"db2\"]\n",
    "        if i%100==0:\n",
    "            preds=predict(parameters,X_train)\n",
    "            print(\"cost on iteration {} is {}\".format(i,cost))\n",
    "            print(\"train accuracy on iteration {} is {} %\".format(i,(100 - np.mean(np.abs(preds - y_train)) * 100)))\n",
    "    plt.plot(costs)\n",
    "    plt.ylabel('Cost')\n",
    "    plt.xlabel('iterations')\n",
    "    plt.title(\"Cost vs number of iterations\")\n",
    "    plt.grid(True)\n",
    "    return parameters\n",
    "        \n",
    "        "
   ]
  },
  {
   "cell_type": "markdown",
   "metadata": {
    "collapsed": true
   },
   "source": [
    "### We now run the model with \n",
    "- 20 hidden units in the hidden layer \n",
    "- 402 iterations \n",
    "- learning rate of 0.1"
   ]
  },
  {
   "cell_type": "code",
   "execution_count": 18,
   "metadata": {
    "collapsed": false
   },
   "outputs": [
    {
     "name": "stdout",
     "output_type": "stream",
     "text": [
      "cost on iteration 0 is 0.6927748868052204\n",
      "train accuracy on iteration 0 is 55.385252525252525 %\n",
      "cost on iteration 100 is 0.18685378916955542\n",
      "train accuracy on iteration 100 is 93.88323232323232 %\n",
      "cost on iteration 200 is 0.10758448042536403\n",
      "train accuracy on iteration 200 is 97.18070707070707 %\n",
      "cost on iteration 300 is 0.0831305110071814\n",
      "train accuracy on iteration 300 is 98.09646464646465 %\n",
      "cost on iteration 400 is 0.07222192506564194\n",
      "train accuracy on iteration 400 is 98.48838383838384 %\n"
     ]
    },
    {
     "data": {
      "image/png": "[encoded data removed]",
      "text/plain": [
       "<matplotlib.figure.Figure at 0x1a280000ac8>"
      ]
     },
     "metadata": {},
     "output_type": "display_data"
    }
   ],
   "source": [
    "params=model(X_train,y_train,20,402,0.1)"
   ]
  },
  {
   "cell_type": "markdown",
   "metadata": {},
   "source": [
    "####  Predictions on the test set"
   ]
  },
  {
   "cell_type": "code",
   "execution_count": 19,
   "metadata": {
    "collapsed": false
   },
   "outputs": [
    {
     "name": "stdout",
     "output_type": "stream",
     "text": [
      "test accuracy: 98.29 %\n"
     ]
    }
   ],
   "source": [
    "preds=predict(params,X_test)\n",
    "print(\"test accuracy: {} %\".format(100 - np.mean(np.abs(preds - y_test)) * 100))"
   ]
  },
  {
   "cell_type": "markdown",
   "metadata": {
    "collapsed": false
   },
   "source": [
    " ##  Tensorflow implementation"
   ]
  },
  {
   "cell_type": "code",
   "execution_count": 20,
   "metadata": {
    "collapsed": false
   },
   "outputs": [],
   "source": [
    "import tensorflow as tf"
   ]
  },
  {
   "cell_type": "markdown",
   "metadata": {
    "collapsed": true
   },
   "source": [
    "#### Initialize placeholders for the inputs X and Y"
   ]
  },
  {
   "cell_type": "code",
   "execution_count": 21,
   "metadata": {
    "collapsed": true
   },
   "outputs": [],
   "source": [
    "def initialize_placeholders(n_x,n_y):\n",
    "    \"\"\"\n",
    "    This function  creates X and Y placeholders\n",
    "    \n",
    "    Arguments:\n",
    "        n_x-> number of features (dimension)\n",
    "        n_y -> dimension of output (row)\n",
    "    Returns:\n",
    "        X-> placeholder for X\n",
    "        Y-> placeholder for Y\n",
    "    \"\"\"\n",
    "    X= tf.placeholder(shape=(n_x,None),dtype=tf.float32,name=\"X\")\n",
    "    Y=tf.placeholder(shape=(n_y,None),dtype=tf.float32,name=\"Y\")\n",
    "    \n",
    "    return X,Y"
   ]
  },
  {
   "cell_type": "markdown",
   "metadata": {},
   "source": [
    "### initialize variables W1,W2,b1 and b2"
   ]
  },
  {
   "cell_type": "code",
   "execution_count": 22,
   "metadata": {
    "collapsed": true
   },
   "outputs": [],
   "source": [
    "def initialize_variables(n_x,n_h,n_y):\n",
    "    \"\"\"\n",
    "    This function initializes variables W1,W2,b1 and b2\n",
    "    Arguments:\n",
    "        n_x-> number of features\n",
    "        n_h-> units in hidden layer,\n",
    "        n_y->units in output layer\n",
    "    Returns:\n",
    "        parameters-> a dictionary containing the parameters W1,W2,b1 and b2\n",
    "    \"\"\"\n",
    "    W1=tf.get_variable(shape=(n_h,n_x),dtype=tf.float32,name=\"W1\",initializer=tf.contrib.layers.xavier_initializer())\n",
    "    \n",
    "    b1=tf.get_variable(shape=(n_h,1),dtype=tf.float32,name=\"b1\",initializer=tf.zeros_initializer(dtype=tf.float32))\n",
    "    \n",
    "    W2=tf.get_variable(shape=(n_y,n_h),dtype=tf.float32,name=\"W2\",initializer=tf.contrib.layers.xavier_initializer())\n",
    "    \n",
    "    b2=tf.get_variable(shape=(n_y,1),dtype=tf.float32,name=\"b2\",initializer=tf.zeros_initializer(dtype=tf.float32))\n",
    "    \n",
    "    parameters={\"W1\":W1,\"b1\":b1,\"W2\":W2,\"b2\":b2}\n",
    "    \n",
    "    return parameters\n",
    "    "
   ]
  },
  {
   "cell_type": "markdown",
   "metadata": {},
   "source": [
    "### define the cost function"
   ]
  },
  {
   "cell_type": "code",
   "execution_count": 23,
   "metadata": {
    "collapsed": true
   },
   "outputs": [],
   "source": [
    "def compute_cost(A2,Y):\n",
    "    \"\"\"\n",
    "    This function computes the cost of the Neural Network    \n",
    "    \n",
    "    Arguments:\n",
    "        A-> Activations from the forward propagation(logits)\n",
    "        Y-> The correct labels \n",
    "    Returns:\n",
    "        cost-> logistic regression cost\n",
    "    \n",
    "    \"\"\"\n",
    "    m=Y.shape[1]\n",
    "    cost =tf.reduce_mean(tf.nn.sigmoid_cross_entropy_with_logits(logits=A2,labels=Y))\n",
    "    return cost"
   ]
  },
  {
   "cell_type": "markdown",
   "metadata": {},
   "source": [
    "### We now define the forward propagation"
   ]
  },
  {
   "cell_type": "code",
   "execution_count": 24,
   "metadata": {
    "collapsed": true
   },
   "outputs": [],
   "source": [
    "def propagate(X,Y,parameters,activation=\"relu\"):\n",
    "    \"\"\"\n",
    "    This function computes the forward propagation for the network\n",
    "    Arguments:\n",
    "        X->input features X\n",
    "        Y-> labels Y\n",
    "        activation-> type of activation\n",
    "    Returns:\n",
    "        Z2-> weighted layer two values\n",
    "    \n",
    "    \"\"\"\n",
    "    W1=parameters[\"W1\"]\n",
    "    W2=parameters[\"W2\"]\n",
    "    b1=parameters[\"b1\"]\n",
    "    b2=parameters[\"b2\"]\n",
    "    \n",
    "    Z1=tf.add(tf.matmul(W1,X), b1)\n",
    "    if activation==\"relu\":\n",
    "        A1=tf.nn.relu(Z1)\n",
    "    elif activation==\"tanh\":\n",
    "        A1=tf.nn.tanh(Z1)\n",
    "    elif activation==\"sigmoid\":\n",
    "        A1=tf.nn.sigmoid(Z1)\n",
    "    Z2=tf.add(tf.matmul(W2,A1),b2)\n",
    "    \n",
    "    return Z2\n",
    "    \n",
    "    "
   ]
  },
  {
   "cell_type": "markdown",
   "metadata": {},
   "source": [
    "### We define the predict function which returns the sigmoid activations of the output layer"
   ]
  },
  {
   "cell_type": "code",
   "execution_count": 25,
   "metadata": {
    "collapsed": true
   },
   "outputs": [],
   "source": [
    "def predict(Z2):\n",
    "    \"\"\"\n",
    "    This function computes the predictions \n",
    "    Arguments:\n",
    "        Z2->weighted outputs for layer 2\n",
    "    Returns:\n",
    "        A2-> activations for output layer\n",
    "    \"\"\"\n",
    "    \n",
    "    A2=tf.nn.sigmoid(Z2)\n",
    "    \n",
    "    return A2\n",
    "    "
   ]
  },
  {
   "cell_type": "markdown",
   "metadata": {},
   "source": [
    "### To train on minibatch gradient descent we create a function to generate minibatches"
   ]
  },
  {
   "cell_type": "code",
   "execution_count": 13,
   "metadata": {
    "collapsed": true
   },
   "outputs": [],
   "source": [
    "def minibatch(X,Y,batch_size=64,seed=0):\n",
    "    \"\"\"\n",
    "    This function creates minibatches given X and Y\n",
    "    Arguments:\n",
    "        X-> features\n",
    "        Y-> labels\n",
    "        batch_size-> size of batch to use\n",
    "        seed-> numpy seed to generate \n",
    "    Returns:\n",
    "        minibatches-> a list of minibatches generated\n",
    "    \n",
    "    \"\"\"\n",
    "    \n",
    "    np.random.seed(seed)\n",
    "    m=X_train.shape[1]\n",
    "    number_of_batches=m//batch_size\n",
    "    permutation = list(np.random.permutation(m))\n",
    "    shuffled_X=X[:,permutation]\n",
    "    shuffled_Y=Y[:,permutation].reshape(1,m)\n",
    "    minibatches=[]\n",
    "    for k in range(number_of_batches):\n",
    "        mini_batch_X=shuffled_X[:,k*batch_size:(k+1)*batch_size]\n",
    "        mini_batch_y=shuffled_Y[:,k*batch_size:(k+1)*batch_size]\n",
    "        minibatch=(mini_batch_X,mini_batch_y)\n",
    "        minibatches.append(minibatch)\n",
    "    if m%batch_size!=0:\n",
    "        last_batch_X=shuffled_X[:,number_of_batches*batch_size:m]\n",
    "        last_batch_y=shuffled_Y[:,number_of_batches*batch_size:m]\n",
    "        last_mini_batch=(last_batch_X,last_batch_y)\n",
    "        minibatches.append(last_mini_batch)\n",
    "    return minibatches\n",
    "        \n",
    "    \n",
    "    \n",
    "    "
   ]
  },
  {
   "cell_type": "markdown",
   "metadata": {},
   "source": [
    "#### We define the model function to create the tensorflow 2 layer neural network"
   ]
  },
  {
   "cell_type": "code",
   "execution_count": 15,
   "metadata": {
    "collapsed": true
   },
   "outputs": [],
   "source": [
    "def model(X_train,y_train,X_test,y_test,num_iterations,hidden_units,learning_rate):\n",
    "    \"\"\"\n",
    "    This function creates the tensorflow 2 layer neural network\n",
    "    \n",
    "    Arguments:\n",
    "        X_train-> training inputs\n",
    "        y_train-> training labels\n",
    "        num_iterations-> number of iterations to compute gradient descent\n",
    "        hidden_units->number of hidden units in the hidden layer\n",
    "        learning_rate-> the learning rate for the gradient descent\n",
    "    \"\"\"\n",
    "    tf.reset_default_graph() #reset the graph\n",
    "    logs_path = \"./tb2/\" #tensorboard log directory\n",
    "    \n",
    "    # initialize the placeholders\n",
    "    X,Y=initialize_placeholders(X_train.shape[0],y_train.shape[0])\n",
    "    # initialize parameters\n",
    "    parameters=initialize_variables(X_train.shape[0],hidden_units,y_train.shape[0])\n",
    "    # compute forward propagation i.e the last activation is avoided since the cost function computes the sigmoid\n",
    "    Z2=propagate(X,Y,parameters,\"relu\")\n",
    "    #compute the loss function\n",
    "    cost= compute_cost(Z2,Y)\n",
    "    # define the optimizer\n",
    "    optimizer=tf.train.GradientDescentOptimizer(learning_rate=learning_rate).minimize(cost)\n",
    "    #define the predictions\n",
    "    preds=predict(Z2)\n",
    "    # define the Loss for ploting in the tensorboard view\n",
    "    cost_summary= tf.summary.scalar(\"Loss\", cost)\n",
    "    summary_op = tf.summary.merge_all()\n",
    "\n",
    "    init=tf.global_variables_initializer()\n",
    "    # create session \n",
    "    with tf.Session() as sess:\n",
    "        #initialize variables\n",
    "        sess.run(init)\n",
    "        # Tensorboard writer \n",
    "        writer = tf.summary.FileWriter(logs_path,graph=tf.get_default_graph())\n",
    "        \n",
    "        #seed for generating minibatches\n",
    "        seed=10\n",
    "        \n",
    "        for i in range(num_iterations):\n",
    "            seed=seed+1\n",
    "            # evaluate cost and cost_summary \n",
    "            minibatches=minibatch(X_train,y_train,batch_size=64,seed=seed)\n",
    "            for mini_batch in minibatches:\n",
    "                (minibatch_X,minibatch_Y)= mini_batch\n",
    "                summary,_,costs=sess.run([cost_summary,optimizer,cost],feed_dict={X:minibatch_X,Y:minibatch_Y})\n",
    "            \n",
    "                writer.add_summary(summary,i)\n",
    "            if i%10==0:\n",
    "                #evaluate train  and test predictions\n",
    "                train_preds=np.choose(preds.eval(feed_dict={X:X_train})<0.5,[1,0])\n",
    "                train_correct_prediction = tf.equal(train_preds, y_train)\n",
    "                train_accuracy = tf.reduce_mean(tf.cast(train_correct_prediction, \"float\"))\n",
    "                test_preds=np.choose(preds.eval(feed_dict={X:X_test})<0.5,[1,0])\n",
    "                test_correct_prediction = tf.equal(test_preds, y_test)\n",
    "                test_accuracy = tf.reduce_mean(tf.cast(test_correct_prediction, \"float\"))\n",
    "                print(\"Cost:{}\".format(costs))\n",
    "                print(\"Training accuracy after {} epochs is {}\".format(i,train_accuracy.eval()))\n",
    "                print(\"Test accuracy after {} epochs is {}\".format(i,test_accuracy.eval()))\n",
    "\n"
   ]
  },
  {
   "cell_type": "markdown",
   "metadata": {},
   "source": [
    "#### We now create the model \n",
    "- Our computation graph is as follows \n",
    "- We use 11 epochs\n"
   ]
  },
  {
   "cell_type": "markdown",
   "metadata": {},
   "source": [
    "<img src=\"./data/graph.png\"><img>"
   ]
  },
  {
   "cell_type": "code",
  "execution_count": 16,
   "metadata": {
    "collapsed": false
   },
   "outputs": [
    {
     "name": "stdout",
     "output_type": "stream",
     "text": [
      "Cost:0.007514956872910261\n",
      "Training accuracy after 0 epochs is 0.9947586059570312\n",
      "Test accuracy after 0 epochs is 0.9948999881744385\n",
      "Cost:0.007274497766047716\n",
      "Training accuracy after 10 epochs is 0.9947707056999207\n",
      "Test accuracy after 10 epochs is 0.9950000047683716\n"
     ]
    }
   ],
   "source": [
    "model(X_train=X_train,y_train=y_train,X_test=X_test,y_test=y_test,num_iterations=11,hidden_units=100,learning_rate=0.1)"
   ]
  },
  {
   "cell_type": "code",
   "execution_count": null,
   "metadata": {
    "collapsed": false
   },
   "outputs": [],
   "source": []
  },
  {
   "cell_type": "code",
   "execution_count": null,
   "metadata": {
    "collapsed": false
   },
   "outputs": [],
   "source": []
  },
  {
   "cell_type": "code",
   "execution_count": null,
   "metadata": {
    "collapsed": false
   },
   "outputs": [],
   "source": []
  },
  {
   "cell_type": "code",
   "execution_count": null,
   "metadata": {
    "collapsed": true
   },
   "outputs": [],
   "source": []
  }
 ],
 "metadata": {
  "kernelspec": {
   "display_name": "Python 3",
   "language": "python",
   "name": "python3"
  },
  "language_info": {
   "codemirror_mode": {
    "name": "ipython",
    "version": 3
   },
   "file_extension": ".py",
   "mimetype": "text/x-python",
   "name": "python",
   "nbconvert_exporter": "python",
   "pygments_lexer": "ipython3",
   "version": "3.5.2"
  }
 },
 "nbformat": 4,
 "nbformat_minor": 2
}
